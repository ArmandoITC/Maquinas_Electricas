{
 "cells": [
  {
   "cell_type": "markdown",
   "id": "0d9eda8b-89a2-43b9-8659-6bee78f368e3",
   "metadata": {},
   "source": [
    "<h1> Campo electrico rotatorio"
   ]
  },
  {
   "cell_type": "code",
   "execution_count": 9,
   "id": "7c8647ee-49f8-4807-b09b-6d56e55ea3b1",
   "metadata": {},
   "outputs": [
    {
     "data": {
      "text/html": [
       "<img src=\"Bobinas.png\",width=200,height=200>\n"
      ],
      "text/plain": [
       "<IPython.core.display.HTML object>"
      ]
     },
     "metadata": {},
     "output_type": "display_data"
    }
   ],
   "source": [
    "%%html\n",
    "<img src=\"Bobinas.png\",width=200,height=200>"
   ]
  },
  {
   "cell_type": "markdown",
   "id": "315483f9-bb16-4d7f-bf97-7211240afb1b",
   "metadata": {},
   "source": [
    "<h3> Corrientes\n",
    "<h5>\n",
    "$$I_{a{a}'}(t)=i_{m}sin(wt)$$\n",
    "$$I_{b{b}'}(t)i_{m}sin(wt-120^{\\circ}) $$\n",
    "$$I_{c{c}'}(t)=i_{m}sin(wt-240^{\\circ})$$\n",
    "<h3> Intensidades de campo magnetico\n",
    "<h5>\n",
    "$$H_{m}=N*i/l_{n}$$\n",
    "$$B_{m}=\\mu*H_{m}$$\n",
    "$$H_{a{a}'}(t)=H_{m}sin(wt)\\angle 0^{\\circ}$$\n",
    "$$H_{b{b}'}(t)=H_{m}sin(wt-120^{\\circ})\\angle 120^{\\circ}$$\n",
    "$$H_{c{c}'}(t)=H_{m}sin(wt-240^{\\circ})\\angle 240^{\\circ}$$\n",
    "<h3> Densidades de flujo\n",
    "<h5>\n",
    "$$B_{a{a}'}(t)=B_{m}sin(wt)\\angle 0^{\\circ}$$\n",
    "$$B_{b{b}'}(t)=B_{m}sin(wt-120^{\\circ})\\angle 120^{\\circ}$$\n",
    "$$B_{c{c}'}(t)=B_{m}sin(wt-240^{\\circ})\\angle 240^{\\circ}$$"
   ]
  },
  {
   "cell_type": "code",
   "execution_count": 10,
   "id": "48828086-6c60-45ed-8a59-0d46a6a29b46",
   "metadata": {},
   "outputs": [
    {
     "data": {
      "text/plain": [
       "[<matplotlib.lines.Line2D at 0x27306417b20>]"
      ]
     },
     "execution_count": 10,
     "metadata": {},
     "output_type": "execute_result"
    },
    {
     "data": {
      "image/png": "[encoded data removed]",
      "text/plain": [
       "<Figure size 432x288 with 1 Axes>"
      ]
     },
     "metadata": {
      "needs_background": "light"
     },
     "output_type": "display_data"
    }
   ],
   "source": [
    "from ipywidgets import interact \n",
    "import matplotlib.pyplot as plt\n",
    "import numpy as np\n",
    "import math\n",
    "import time\n",
    "\n",
    "bmax = 1;                # Normalizar bmax a 1\n",
    "freq = 60;               # 60 Hz\n",
    "w = 2*3.141598*freq;           # velocidad angular (rad/s)\n",
    "t= np.arange(0,1/60,1/6000) #Crear un vector de tiempo de 0 a 1/60\n",
    "\n",
    "Iaa = np.sin(w*t)\n",
    "Ibb = np.sin(w*t-2*np.pi/3)\n",
    "Icc = np.sin(w*t+2*np.pi/3)\n",
    "\n",
    "plt.plot(t,Iaa,'b',label='python')\n",
    "plt.plot(t,Ibb,'g',label='python')\n",
    "plt.plot(t,Icc,'r',label='python')"
   ]
  },
  {
   "cell_type": "code",
   "execution_count": 11,
   "id": "2abd827d-a7db-416f-bd40-172864e3b70f",
   "metadata": {},
   "outputs": [],
   "source": [
    "Baa = np.sin(w*t)*(math.cos(0) + math.sin(0)*1j); #debido a la bobina 1\n",
    "Bbb = np.sin(w*t-2*np.pi/3)*(math.cos(2*np.pi/3) + math.sin(2*np.pi/3)*1j); #debido a la bobina 2\n",
    "Bcc = np.sin(w*t+2*np.pi/3)*(math.cos(-2*np.pi/3) + math.sin(-2*np.pi/3)*1j); #debido a la bobina 3\n",
    "\n",
    "Bnet=Baa+Bbb+Bcc #densidad neta\n",
    "circle = 1.5 * (np.cos(w*t) + np.sin(w*t)*1j); #limite del campo magnetico\n",
    "x=[ele.real for ele in circle]\n",
    "y = [ele.imag for ele in circle]\n"
   ]
  },
  {
   "cell_type": "markdown",
   "id": "52d943e3-3164-4289-9c97-f022d190ce61",
   "metadata": {},
   "source": [
    "<h2> EN EL INSTANTE wt=0"
   ]
  },
  {
   "cell_type": "code",
   "execution_count": 16,
   "id": "f832fb63-a4bc-4005-b213-33fa75e86f8f",
   "metadata": {},
   "outputs": [
    {
     "name": "stdout",
     "output_type": "stream",
     "text": [
      "Las componentes de Baa  0j\n",
      "Las componentes de Bbb  (0.4330127018922192-0.7500000000000001j)\n",
      "Las componentes de Bcc  (-0.4330127018922192-0.7500000000000001j)\n"
     ]
    }
   ],
   "source": [
    "print(\"Las componentes de Baa \",Baa[0])\n",
    "print(\"Las componentes de Bbb \",Bbb[0])\n",
    "print(\"Las componentes de Bcc \",Bcc[0])"
   ]
  },
  {
   "cell_type": "code",
   "execution_count": 13,
   "id": "105e0597-2027-4656-9f49-45cd249d7a86",
   "metadata": {},
   "outputs": [],
   "source": [
    "def actualizar(ii):\n",
    "    \n",
    "    plt.scatter(x,y)\n",
    "    plt.plot([0,Baa[ii].real],[0,Baa[ii].imag],'b',label='python')\n",
    "    plt.plot([0,Bbb[ii].real],[0,Bbb[ii].imag],'g',label='python')\n",
    "    plt.plot([0,Bcc[ii].real],[0,Bcc[ii].imag],'r',label='python')\n",
    "    plt.plot([0,Bnet[ii].real],[0,Bnet[ii].imag],'c',label='python')\n",
    "    \n",
    "    plt.ylabel('Imaginario Y')\n",
    "    plt.xlabel('Real X')\n",
    "    plt.show()\n",
    "    print(\"Las componentes de Baa \",Baa[ii])\n",
    "    print(\"Las componentes de Bbb \",Bbb[ii])\n",
    "    print(\"Las componentes de Bcc \",Bcc[ii])\n"
   ]
  },
  {
   "cell_type": "code",
   "execution_count": 15,
   "id": "a8b4ef4a-c64a-4ad0-88fc-a57b16301a39",
   "metadata": {},
   "outputs": [
    {
     "data": {
      "application/vnd.jupyter.widget-view+json": {
       "model_id": "d1a79643896b46eb8d77c0179a6f09d5",
       "version_major": 2,
       "version_minor": 0
      },
      "text/plain": [
       "interactive(children=(IntSlider(value=49, description='ii', max=99), Output()), _dom_classes=('widget-interact…"
      ]
     },
     "metadata": {},
     "output_type": "display_data"
    },
    {
     "data": {
      "text/plain": [
       "<function __main__.actualizar(ii)>"
      ]
     },
     "execution_count": 15,
     "metadata": {},
     "output_type": "execute_result"
    }
   ],
   "source": [
    "interact(actualizar,ii=(0,len(t)-1))"
   ]
  }
 ],
 "metadata": {
  "kernelspec": {
   "display_name": "Python 3 (ipykernel)",
   "language": "python",
   "name": "python3"
  },
  "language_info": {
   "codemirror_mode": {
    "name": "ipython",
    "version": 3
   },
   "file_extension": ".py",
   "mimetype": "text/x-python",
   "name": "python",
   "nbconvert_exporter": "python",
   "pygments_lexer": "ipython3",
   "version": "3.9.7"
  }
 },
 "nbformat": 4,
 "nbformat_minor": 5
}
